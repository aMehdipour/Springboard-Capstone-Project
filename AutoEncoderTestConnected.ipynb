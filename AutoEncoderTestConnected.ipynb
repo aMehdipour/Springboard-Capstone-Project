{
 "cells": [
  {
   "cell_type": "markdown",
   "metadata": {},
   "source": [
    "### Auto Encoder Developement"
   ]
  },
  {
   "cell_type": "code",
   "execution_count": 1,
   "id": "4d48baab",
   "metadata": {},
   "outputs": [],
   "source": [
    "import numpy as np\n",
    "import pandas as pd\n",
    "import pandas as pd\n",
    "import numpy as np\n",
    "import matplotlib.pyplot as plt\n",
    "import seaborn as sns\n",
    "import tensorflow as tf\n",
    "from tensorflow import keras\n",
    "from tensorflow.keras import layers\n",
    "from tensorflow.keras.models import Model\n",
    "import keras_tuner as kt\n",
    "from keras.wrappers.scikit_learn import KerasRegressor\n",
    "from sklearn.model_selection import KFold,GridSearchCV,RandomizedSearchCV,train_test_split,StratifiedKFold\n",
    "from sklearn.metrics import confusion_matrix,accuracy_score,r2_score,roc_auc_score,precision_score,recall_score,f1_score,mean_squared_error\n",
    "from jupyterthemes import jtplot\n",
    "jtplot.style(theme='monokai', context='notebook', ticks=True, grid=True)"
   ]
  },
  {
   "cell_type": "code",
   "execution_count": 2,
   "id": "f48dd172",
   "metadata": {},
   "outputs": [],
   "source": [
    "col_names = ['id', 'cycle', 'setting1', 'setting2', 'setting3', 'T2', 'T24'\n",
    "             , 'T30', 'T50','P2', 'P15', 'P30', 'Nf', 'Nc', 'epr', 'Ps30'\n",
    "             , 'phi', 'NRf', 'NRc', 'BPR','farB', 'htBleed', 'Nf_dmd',\n",
    "             'PCNfR_dmd','W31', 'W32', 's22', 's23']"
   ]
  },
  {
   "cell_type": "markdown",
   "id": "cc90d235",
   "metadata": {},
   "source": [
    "Import the training, test, and remaining useful life data and remove all NaN values."
   ]
  },
  {
   "cell_type": "code",
   "execution_count": 3,
   "id": "b1cb9faf",
   "metadata": {},
   "outputs": [
    {
     "data": {
      "text/html": [
       "<div>\n",
       "<style scoped>\n",
       "    .dataframe tbody tr th:only-of-type {\n",
       "        vertical-align: middle;\n",
       "    }\n",
       "\n",
       "    .dataframe tbody tr th {\n",
       "        vertical-align: top;\n",
       "    }\n",
       "\n",
       "    .dataframe thead th {\n",
       "        text-align: right;\n",
       "    }\n",
       "</style>\n",
       "<table border=\"1\" class=\"dataframe\">\n",
       "  <thead>\n",
       "    <tr style=\"text-align: right;\">\n",
       "      <th></th>\n",
       "      <th>remaining_cycles</th>\n",
       "      <th>Nan</th>\n",
       "    </tr>\n",
       "  </thead>\n",
       "  <tbody>\n",
       "    <tr>\n",
       "      <th>0</th>\n",
       "      <td>112</td>\n",
       "      <td>NaN</td>\n",
       "    </tr>\n",
       "    <tr>\n",
       "      <th>1</th>\n",
       "      <td>98</td>\n",
       "      <td>NaN</td>\n",
       "    </tr>\n",
       "    <tr>\n",
       "      <th>2</th>\n",
       "      <td>69</td>\n",
       "      <td>NaN</td>\n",
       "    </tr>\n",
       "    <tr>\n",
       "      <th>3</th>\n",
       "      <td>82</td>\n",
       "      <td>NaN</td>\n",
       "    </tr>\n",
       "    <tr>\n",
       "      <th>4</th>\n",
       "      <td>91</td>\n",
       "      <td>NaN</td>\n",
       "    </tr>\n",
       "  </tbody>\n",
       "</table>\n",
       "</div>"
      ],
      "text/plain": [
       "   remaining_cycles  Nan\n",
       "0               112  NaN\n",
       "1                98  NaN\n",
       "2                69  NaN\n",
       "3                82  NaN\n",
       "4                91  NaN"
      ]
     },
     "execution_count": 3,
     "metadata": {},
     "output_type": "execute_result"
    }
   ],
   "source": [
    "train = pd.read_csv(\"train.txt\", sep=' ', names=col_names)\n",
    "test = pd.read_csv(\"test.txt\", sep=' ', names=col_names)\n",
    "RUL = pd.read_csv(\"RUL.txt\", sep=' ', names=['remaining_cycles', 'Nan'])\n",
    "RUL.head()"
   ]
  },
  {
   "cell_type": "code",
   "execution_count": 4,
   "id": "a9224d1f",
   "metadata": {},
   "outputs": [],
   "source": [
    "train.drop(columns=['s22', 's23'], axis=1, inplace=True)\n",
    "test.drop(columns=['s22', 's23'], axis=1, inplace=True)\n",
    "RUL.drop(columns=['Nan'], axis=1, inplace=True)"
   ]
  },
  {
   "cell_type": "code",
   "execution_count": 5,
   "id": "be6ccb37",
   "metadata": {},
   "outputs": [
    {
     "data": {
      "text/html": [
       "<div>\n",
       "<style scoped>\n",
       "    .dataframe tbody tr th:only-of-type {\n",
       "        vertical-align: middle;\n",
       "    }\n",
       "\n",
       "    .dataframe tbody tr th {\n",
       "        vertical-align: top;\n",
       "    }\n",
       "\n",
       "    .dataframe thead th {\n",
       "        text-align: right;\n",
       "    }\n",
       "</style>\n",
       "<table border=\"1\" class=\"dataframe\">\n",
       "  <thead>\n",
       "    <tr style=\"text-align: right;\">\n",
       "      <th></th>\n",
       "      <th>remaining_cycles</th>\n",
       "      <th>id</th>\n",
       "    </tr>\n",
       "  </thead>\n",
       "  <tbody>\n",
       "    <tr>\n",
       "      <th>0</th>\n",
       "      <td>112</td>\n",
       "      <td>1</td>\n",
       "    </tr>\n",
       "    <tr>\n",
       "      <th>1</th>\n",
       "      <td>98</td>\n",
       "      <td>2</td>\n",
       "    </tr>\n",
       "    <tr>\n",
       "      <th>2</th>\n",
       "      <td>69</td>\n",
       "      <td>3</td>\n",
       "    </tr>\n",
       "    <tr>\n",
       "      <th>3</th>\n",
       "      <td>82</td>\n",
       "      <td>4</td>\n",
       "    </tr>\n",
       "    <tr>\n",
       "      <th>4</th>\n",
       "      <td>91</td>\n",
       "      <td>5</td>\n",
       "    </tr>\n",
       "  </tbody>\n",
       "</table>\n",
       "</div>"
      ],
      "text/plain": [
       "   remaining_cycles  id\n",
       "0               112   1\n",
       "1                98   2\n",
       "2                69   3\n",
       "3                82   4\n",
       "4                91   5"
      ]
     },
     "execution_count": 5,
     "metadata": {},
     "output_type": "execute_result"
    }
   ],
   "source": [
    "RUL['id'] = RUL.index + 1\n",
    "\n",
    "RUL.head()"
   ]
  },
  {
   "cell_type": "markdown",
   "id": "f00a7399",
   "metadata": {},
   "source": [
    "The dataset is made up of sensor data for 100 different engines, as can be seen below."
   ]
  },
  {
   "cell_type": "code",
   "execution_count": 6,
   "id": "1bc5c3d4",
   "metadata": {},
   "outputs": [
    {
     "name": "stdout",
     "output_type": "stream",
     "text": [
      "Engine IDs: [  1   2   3   4   5   6   7   8   9  10  11  12  13  14  15  16  17  18\n",
      "  19  20  21  22  23  24  25  26  27  28  29  30  31  32  33  34  35  36\n",
      "  37  38  39  40  41  42  43  44  45  46  47  48  49  50  51  52  53  54\n",
      "  55  56  57  58  59  60  61  62  63  64  65  66  67  68  69  70  71  72\n",
      "  73  74  75  76  77  78  79  80  81  82  83  84  85  86  87  88  89  90\n",
      "  91  92  93  94  95  96  97  98  99 100]\n"
     ]
    }
   ],
   "source": [
    "print('Engine IDs:', train.id.unique())"
   ]
  },
  {
   "cell_type": "markdown",
   "id": "a1ad2e86",
   "metadata": {},
   "source": [
    "## Processing Data"
   ]
  },
  {
   "cell_type": "markdown",
   "id": "49eb2c6e",
   "metadata": {},
   "source": [
    "A testing dataset is provided where the engines are not ran until failure, and a complimentary vector is provided for the remaining useful life (RUL) for each engine ID. In order to match the engines in the test set with their corresponding RUL, we must concatenate the two datasets."
   ]
  },
  {
   "cell_type": "markdown",
   "id": "f34cf0cb",
   "metadata": {},
   "source": [
    "Since the engines in the test set are ran until failure, you can calculate the remaining cycles until failure by subtracting the current cycle from the maximum cycle for each engine ID. He does this for the test set as well. Since the remaining useful life for all the test engines are given, as well as their current cycle, the maximum cycles for each engine can be calculated."
   ]
  },
  {
   "cell_type": "code",
   "execution_count": 7,
   "id": "f53a4ce3",
   "metadata": {},
   "outputs": [],
   "source": [
    "train['remaining_cycles'] = train.groupby(['id'])['cycle'].transform(max)-train['cycle']"
   ]
  },
  {
   "cell_type": "code",
   "execution_count": 8,
   "id": "fb095086",
   "metadata": {},
   "outputs": [
    {
     "data": {
      "text/html": [
       "<div>\n",
       "<style scoped>\n",
       "    .dataframe tbody tr th:only-of-type {\n",
       "        vertical-align: middle;\n",
       "    }\n",
       "\n",
       "    .dataframe tbody tr th {\n",
       "        vertical-align: top;\n",
       "    }\n",
       "\n",
       "    .dataframe thead th {\n",
       "        text-align: right;\n",
       "    }\n",
       "</style>\n",
       "<table border=\"1\" class=\"dataframe\">\n",
       "  <thead>\n",
       "    <tr style=\"text-align: right;\">\n",
       "      <th></th>\n",
       "      <th>id</th>\n",
       "      <th>cycle</th>\n",
       "      <th>setting1</th>\n",
       "      <th>setting2</th>\n",
       "      <th>setting3</th>\n",
       "      <th>T2</th>\n",
       "      <th>T24</th>\n",
       "      <th>T30</th>\n",
       "      <th>T50</th>\n",
       "      <th>P2</th>\n",
       "      <th>...</th>\n",
       "      <th>NRf</th>\n",
       "      <th>NRc</th>\n",
       "      <th>BPR</th>\n",
       "      <th>farB</th>\n",
       "      <th>htBleed</th>\n",
       "      <th>Nf_dmd</th>\n",
       "      <th>PCNfR_dmd</th>\n",
       "      <th>W31</th>\n",
       "      <th>W32</th>\n",
       "      <th>remaining_cycles</th>\n",
       "    </tr>\n",
       "  </thead>\n",
       "  <tbody>\n",
       "    <tr>\n",
       "      <th>0</th>\n",
       "      <td>1</td>\n",
       "      <td>1</td>\n",
       "      <td>-0.0007</td>\n",
       "      <td>-0.0004</td>\n",
       "      <td>100.0</td>\n",
       "      <td>518.67</td>\n",
       "      <td>641.82</td>\n",
       "      <td>1589.70</td>\n",
       "      <td>1400.60</td>\n",
       "      <td>14.62</td>\n",
       "      <td>...</td>\n",
       "      <td>2388.02</td>\n",
       "      <td>8138.62</td>\n",
       "      <td>8.4195</td>\n",
       "      <td>0.03</td>\n",
       "      <td>392</td>\n",
       "      <td>2388</td>\n",
       "      <td>100.0</td>\n",
       "      <td>39.06</td>\n",
       "      <td>23.4190</td>\n",
       "      <td>191</td>\n",
       "    </tr>\n",
       "    <tr>\n",
       "      <th>1</th>\n",
       "      <td>1</td>\n",
       "      <td>2</td>\n",
       "      <td>0.0019</td>\n",
       "      <td>-0.0003</td>\n",
       "      <td>100.0</td>\n",
       "      <td>518.67</td>\n",
       "      <td>642.15</td>\n",
       "      <td>1591.82</td>\n",
       "      <td>1403.14</td>\n",
       "      <td>14.62</td>\n",
       "      <td>...</td>\n",
       "      <td>2388.07</td>\n",
       "      <td>8131.49</td>\n",
       "      <td>8.4318</td>\n",
       "      <td>0.03</td>\n",
       "      <td>392</td>\n",
       "      <td>2388</td>\n",
       "      <td>100.0</td>\n",
       "      <td>39.00</td>\n",
       "      <td>23.4236</td>\n",
       "      <td>190</td>\n",
       "    </tr>\n",
       "    <tr>\n",
       "      <th>2</th>\n",
       "      <td>1</td>\n",
       "      <td>3</td>\n",
       "      <td>-0.0043</td>\n",
       "      <td>0.0003</td>\n",
       "      <td>100.0</td>\n",
       "      <td>518.67</td>\n",
       "      <td>642.35</td>\n",
       "      <td>1587.99</td>\n",
       "      <td>1404.20</td>\n",
       "      <td>14.62</td>\n",
       "      <td>...</td>\n",
       "      <td>2388.03</td>\n",
       "      <td>8133.23</td>\n",
       "      <td>8.4178</td>\n",
       "      <td>0.03</td>\n",
       "      <td>390</td>\n",
       "      <td>2388</td>\n",
       "      <td>100.0</td>\n",
       "      <td>38.95</td>\n",
       "      <td>23.3442</td>\n",
       "      <td>189</td>\n",
       "    </tr>\n",
       "    <tr>\n",
       "      <th>3</th>\n",
       "      <td>1</td>\n",
       "      <td>4</td>\n",
       "      <td>0.0007</td>\n",
       "      <td>0.0000</td>\n",
       "      <td>100.0</td>\n",
       "      <td>518.67</td>\n",
       "      <td>642.35</td>\n",
       "      <td>1582.79</td>\n",
       "      <td>1401.87</td>\n",
       "      <td>14.62</td>\n",
       "      <td>...</td>\n",
       "      <td>2388.08</td>\n",
       "      <td>8133.83</td>\n",
       "      <td>8.3682</td>\n",
       "      <td>0.03</td>\n",
       "      <td>392</td>\n",
       "      <td>2388</td>\n",
       "      <td>100.0</td>\n",
       "      <td>38.88</td>\n",
       "      <td>23.3739</td>\n",
       "      <td>188</td>\n",
       "    </tr>\n",
       "    <tr>\n",
       "      <th>4</th>\n",
       "      <td>1</td>\n",
       "      <td>5</td>\n",
       "      <td>-0.0019</td>\n",
       "      <td>-0.0002</td>\n",
       "      <td>100.0</td>\n",
       "      <td>518.67</td>\n",
       "      <td>642.37</td>\n",
       "      <td>1582.85</td>\n",
       "      <td>1406.22</td>\n",
       "      <td>14.62</td>\n",
       "      <td>...</td>\n",
       "      <td>2388.04</td>\n",
       "      <td>8133.80</td>\n",
       "      <td>8.4294</td>\n",
       "      <td>0.03</td>\n",
       "      <td>393</td>\n",
       "      <td>2388</td>\n",
       "      <td>100.0</td>\n",
       "      <td>38.90</td>\n",
       "      <td>23.4044</td>\n",
       "      <td>187</td>\n",
       "    </tr>\n",
       "    <tr>\n",
       "      <th>...</th>\n",
       "      <td>...</td>\n",
       "      <td>...</td>\n",
       "      <td>...</td>\n",
       "      <td>...</td>\n",
       "      <td>...</td>\n",
       "      <td>...</td>\n",
       "      <td>...</td>\n",
       "      <td>...</td>\n",
       "      <td>...</td>\n",
       "      <td>...</td>\n",
       "      <td>...</td>\n",
       "      <td>...</td>\n",
       "      <td>...</td>\n",
       "      <td>...</td>\n",
       "      <td>...</td>\n",
       "      <td>...</td>\n",
       "      <td>...</td>\n",
       "      <td>...</td>\n",
       "      <td>...</td>\n",
       "      <td>...</td>\n",
       "      <td>...</td>\n",
       "    </tr>\n",
       "    <tr>\n",
       "      <th>20626</th>\n",
       "      <td>100</td>\n",
       "      <td>196</td>\n",
       "      <td>-0.0004</td>\n",
       "      <td>-0.0003</td>\n",
       "      <td>100.0</td>\n",
       "      <td>518.67</td>\n",
       "      <td>643.49</td>\n",
       "      <td>1597.98</td>\n",
       "      <td>1428.63</td>\n",
       "      <td>14.62</td>\n",
       "      <td>...</td>\n",
       "      <td>2388.26</td>\n",
       "      <td>8137.60</td>\n",
       "      <td>8.4956</td>\n",
       "      <td>0.03</td>\n",
       "      <td>397</td>\n",
       "      <td>2388</td>\n",
       "      <td>100.0</td>\n",
       "      <td>38.49</td>\n",
       "      <td>22.9735</td>\n",
       "      <td>4</td>\n",
       "    </tr>\n",
       "    <tr>\n",
       "      <th>20627</th>\n",
       "      <td>100</td>\n",
       "      <td>197</td>\n",
       "      <td>-0.0016</td>\n",
       "      <td>-0.0005</td>\n",
       "      <td>100.0</td>\n",
       "      <td>518.67</td>\n",
       "      <td>643.54</td>\n",
       "      <td>1604.50</td>\n",
       "      <td>1433.58</td>\n",
       "      <td>14.62</td>\n",
       "      <td>...</td>\n",
       "      <td>2388.22</td>\n",
       "      <td>8136.50</td>\n",
       "      <td>8.5139</td>\n",
       "      <td>0.03</td>\n",
       "      <td>395</td>\n",
       "      <td>2388</td>\n",
       "      <td>100.0</td>\n",
       "      <td>38.30</td>\n",
       "      <td>23.1594</td>\n",
       "      <td>3</td>\n",
       "    </tr>\n",
       "    <tr>\n",
       "      <th>20628</th>\n",
       "      <td>100</td>\n",
       "      <td>198</td>\n",
       "      <td>0.0004</td>\n",
       "      <td>0.0000</td>\n",
       "      <td>100.0</td>\n",
       "      <td>518.67</td>\n",
       "      <td>643.42</td>\n",
       "      <td>1602.46</td>\n",
       "      <td>1428.18</td>\n",
       "      <td>14.62</td>\n",
       "      <td>...</td>\n",
       "      <td>2388.24</td>\n",
       "      <td>8141.05</td>\n",
       "      <td>8.5646</td>\n",
       "      <td>0.03</td>\n",
       "      <td>398</td>\n",
       "      <td>2388</td>\n",
       "      <td>100.0</td>\n",
       "      <td>38.44</td>\n",
       "      <td>22.9333</td>\n",
       "      <td>2</td>\n",
       "    </tr>\n",
       "    <tr>\n",
       "      <th>20629</th>\n",
       "      <td>100</td>\n",
       "      <td>199</td>\n",
       "      <td>-0.0011</td>\n",
       "      <td>0.0003</td>\n",
       "      <td>100.0</td>\n",
       "      <td>518.67</td>\n",
       "      <td>643.23</td>\n",
       "      <td>1605.26</td>\n",
       "      <td>1426.53</td>\n",
       "      <td>14.62</td>\n",
       "      <td>...</td>\n",
       "      <td>2388.23</td>\n",
       "      <td>8139.29</td>\n",
       "      <td>8.5389</td>\n",
       "      <td>0.03</td>\n",
       "      <td>395</td>\n",
       "      <td>2388</td>\n",
       "      <td>100.0</td>\n",
       "      <td>38.29</td>\n",
       "      <td>23.0640</td>\n",
       "      <td>1</td>\n",
       "    </tr>\n",
       "    <tr>\n",
       "      <th>20630</th>\n",
       "      <td>100</td>\n",
       "      <td>200</td>\n",
       "      <td>-0.0032</td>\n",
       "      <td>-0.0005</td>\n",
       "      <td>100.0</td>\n",
       "      <td>518.67</td>\n",
       "      <td>643.85</td>\n",
       "      <td>1600.38</td>\n",
       "      <td>1432.14</td>\n",
       "      <td>14.62</td>\n",
       "      <td>...</td>\n",
       "      <td>2388.26</td>\n",
       "      <td>8137.33</td>\n",
       "      <td>8.5036</td>\n",
       "      <td>0.03</td>\n",
       "      <td>396</td>\n",
       "      <td>2388</td>\n",
       "      <td>100.0</td>\n",
       "      <td>38.37</td>\n",
       "      <td>23.0522</td>\n",
       "      <td>0</td>\n",
       "    </tr>\n",
       "  </tbody>\n",
       "</table>\n",
       "<p>20631 rows × 27 columns</p>\n",
       "</div>"
      ],
      "text/plain": [
       "        id  cycle  setting1  setting2  setting3      T2     T24      T30  \\\n",
       "0        1      1   -0.0007   -0.0004     100.0  518.67  641.82  1589.70   \n",
       "1        1      2    0.0019   -0.0003     100.0  518.67  642.15  1591.82   \n",
       "2        1      3   -0.0043    0.0003     100.0  518.67  642.35  1587.99   \n",
       "3        1      4    0.0007    0.0000     100.0  518.67  642.35  1582.79   \n",
       "4        1      5   -0.0019   -0.0002     100.0  518.67  642.37  1582.85   \n",
       "...    ...    ...       ...       ...       ...     ...     ...      ...   \n",
       "20626  100    196   -0.0004   -0.0003     100.0  518.67  643.49  1597.98   \n",
       "20627  100    197   -0.0016   -0.0005     100.0  518.67  643.54  1604.50   \n",
       "20628  100    198    0.0004    0.0000     100.0  518.67  643.42  1602.46   \n",
       "20629  100    199   -0.0011    0.0003     100.0  518.67  643.23  1605.26   \n",
       "20630  100    200   -0.0032   -0.0005     100.0  518.67  643.85  1600.38   \n",
       "\n",
       "           T50     P2  ...      NRf      NRc     BPR  farB  htBleed  Nf_dmd  \\\n",
       "0      1400.60  14.62  ...  2388.02  8138.62  8.4195  0.03      392    2388   \n",
       "1      1403.14  14.62  ...  2388.07  8131.49  8.4318  0.03      392    2388   \n",
       "2      1404.20  14.62  ...  2388.03  8133.23  8.4178  0.03      390    2388   \n",
       "3      1401.87  14.62  ...  2388.08  8133.83  8.3682  0.03      392    2388   \n",
       "4      1406.22  14.62  ...  2388.04  8133.80  8.4294  0.03      393    2388   \n",
       "...        ...    ...  ...      ...      ...     ...   ...      ...     ...   \n",
       "20626  1428.63  14.62  ...  2388.26  8137.60  8.4956  0.03      397    2388   \n",
       "20627  1433.58  14.62  ...  2388.22  8136.50  8.5139  0.03      395    2388   \n",
       "20628  1428.18  14.62  ...  2388.24  8141.05  8.5646  0.03      398    2388   \n",
       "20629  1426.53  14.62  ...  2388.23  8139.29  8.5389  0.03      395    2388   \n",
       "20630  1432.14  14.62  ...  2388.26  8137.33  8.5036  0.03      396    2388   \n",
       "\n",
       "       PCNfR_dmd    W31      W32  remaining_cycles  \n",
       "0          100.0  39.06  23.4190               191  \n",
       "1          100.0  39.00  23.4236               190  \n",
       "2          100.0  38.95  23.3442               189  \n",
       "3          100.0  38.88  23.3739               188  \n",
       "4          100.0  38.90  23.4044               187  \n",
       "...          ...    ...      ...               ...  \n",
       "20626      100.0  38.49  22.9735                 4  \n",
       "20627      100.0  38.30  23.1594                 3  \n",
       "20628      100.0  38.44  22.9333                 2  \n",
       "20629      100.0  38.29  23.0640                 1  \n",
       "20630      100.0  38.37  23.0522                 0  \n",
       "\n",
       "[20631 rows x 27 columns]"
      ]
     },
     "execution_count": 8,
     "metadata": {},
     "output_type": "execute_result"
    }
   ],
   "source": [
    "train"
   ]
  },
  {
   "cell_type": "code",
   "execution_count": 9,
   "id": "1b33f6b4",
   "metadata": {},
   "outputs": [],
   "source": [
    "# Maximum cycles = cycles at test end + remaining useful life\n",
    "\n",
    "maxCycles = pd.DataFrame(test.groupby('id')['cycle'].max()).reset_index()\n",
    "maxCycles.columns = ['id', 'max_tested']\n",
    "maxCycles['max_cycles'] = RUL['remaining_cycles'] + maxCycles['max_tested']\n",
    "maxCycles.drop(['max_tested'], axis=1, inplace=True)"
   ]
  },
  {
   "cell_type": "code",
   "execution_count": 10,
   "id": "50f53584",
   "metadata": {},
   "outputs": [
    {
     "data": {
      "text/html": [
       "<div>\n",
       "<style scoped>\n",
       "    .dataframe tbody tr th:only-of-type {\n",
       "        vertical-align: middle;\n",
       "    }\n",
       "\n",
       "    .dataframe tbody tr th {\n",
       "        vertical-align: top;\n",
       "    }\n",
       "\n",
       "    .dataframe thead th {\n",
       "        text-align: right;\n",
       "    }\n",
       "</style>\n",
       "<table border=\"1\" class=\"dataframe\">\n",
       "  <thead>\n",
       "    <tr style=\"text-align: right;\">\n",
       "      <th></th>\n",
       "      <th>id</th>\n",
       "      <th>max_cycles</th>\n",
       "    </tr>\n",
       "  </thead>\n",
       "  <tbody>\n",
       "    <tr>\n",
       "      <th>0</th>\n",
       "      <td>1</td>\n",
       "      <td>143</td>\n",
       "    </tr>\n",
       "    <tr>\n",
       "      <th>1</th>\n",
       "      <td>2</td>\n",
       "      <td>147</td>\n",
       "    </tr>\n",
       "    <tr>\n",
       "      <th>2</th>\n",
       "      <td>3</td>\n",
       "      <td>195</td>\n",
       "    </tr>\n",
       "    <tr>\n",
       "      <th>3</th>\n",
       "      <td>4</td>\n",
       "      <td>188</td>\n",
       "    </tr>\n",
       "    <tr>\n",
       "      <th>4</th>\n",
       "      <td>5</td>\n",
       "      <td>189</td>\n",
       "    </tr>\n",
       "  </tbody>\n",
       "</table>\n",
       "</div>"
      ],
      "text/plain": [
       "   id  max_cycles\n",
       "0   1         143\n",
       "1   2         147\n",
       "2   3         195\n",
       "3   4         188\n",
       "4   5         189"
      ]
     },
     "execution_count": 10,
     "metadata": {},
     "output_type": "execute_result"
    }
   ],
   "source": [
    "maxCycles.head()"
   ]
  },
  {
   "cell_type": "code",
   "execution_count": 11,
   "id": "4a58ed0c",
   "metadata": {},
   "outputs": [],
   "source": [
    "test = test.merge(maxCycles, on=['id'], how='left')"
   ]
  },
  {
   "cell_type": "code",
   "execution_count": 12,
   "id": "a8f89b67",
   "metadata": {},
   "outputs": [],
   "source": [
    "test['remaining_cycles'] = test['max_cycles'] - test['cycle']\n",
    "test.drop(['max_cycles'], axis=1, inplace=True)"
   ]
  },
  {
   "cell_type": "code",
   "execution_count": 13,
   "metadata": {},
   "outputs": [],
   "source": [
    "# X = train.drop(['id', 'setting3', 'P2', 'P15', 'epr', 'htBleed', 'PCNfR_dmd', 'W31',\n",
    "#                 'remaining_cycles'], axis=1)\n",
    "# X_test = test.drop(['id', 'setting3', 'P2', 'P15', 'epr', 'htBleed', 'PCNfR_dmd', 'W31',\n",
    "#                 'remaining_cycles'], axis=1)"
   ]
  },
  {
   "cell_type": "code",
   "execution_count": 14,
   "metadata": {},
   "outputs": [],
   "source": [
    "X = train.drop(['id', 'cycle', 'setting2', 'setting3', 'T2', 'T24', 'epr', 'farB', 'Nf_dmd', 'PCNfR_dmd',\n",
    "                'remaining_cycles'], axis=1)\n",
    "X_test = test.drop(['id', 'cycle', 'setting2', 'setting3', 'T2', 'T24', 'epr', 'farB', 'Nf_dmd', 'PCNfR_dmd',\n",
    "                'remaining_cycles'], axis=1)"
   ]
  },
  {
   "cell_type": "code",
   "execution_count": 15,
   "metadata": {},
   "outputs": [
    {
     "name": "stderr",
     "output_type": "stream",
     "text": [
      "C:\\Users\\Arash\\AppData\\Local\\Packages\\PythonSoftwareFoundation.Python.3.9_qbz5n2kfra8p0\\LocalCache\\local-packages\\Python39\\site-packages\\sklearn\\preprocessing\\_data.py:3251: RuntimeWarning: divide by zero encountered in log\n",
      "  loglike = -n_samples / 2 * np.log(x_trans.var())\n"
     ]
    }
   ],
   "source": [
    "from sklearn.preprocessing import MinMaxScaler, PowerTransformer\n",
    "gen = MinMaxScaler(feature_range=(0,1))\n",
    "X = gen.fit_transform(X)\n",
    "X = pd.DataFrame(X)\n",
    "X = np.nan_to_num(X)\n",
    "\n",
    "pt = PowerTransformer()\n",
    "X = pt.fit_transform(X)\n",
    "X = np.array(X)"
   ]
  },
  {
   "cell_type": "code",
   "execution_count": 16,
   "metadata": {},
   "outputs": [],
   "source": [
    "y_test = test.remaining_cycles"
   ]
  },
  {
   "cell_type": "code",
   "execution_count": 17,
   "id": "0607bc22",
   "metadata": {},
   "outputs": [
    {
     "name": "stderr",
     "output_type": "stream",
     "text": [
      "C:\\Users\\Arash\\AppData\\Local\\Packages\\PythonSoftwareFoundation.Python.3.9_qbz5n2kfra8p0\\LocalCache\\local-packages\\Python39\\site-packages\\sklearn\\preprocessing\\_data.py:3251: RuntimeWarning: divide by zero encountered in log\n",
      "  loglike = -n_samples / 2 * np.log(x_trans.var())\n"
     ]
    }
   ],
   "source": [
    "gen2 = MinMaxScaler(feature_range=(0,1))\n",
    "X_test = gen.fit_transform(X_test)\n",
    "X_test = pd.DataFrame(X_test)\n",
    "X_test = np.nan_to_num(X_test)\n",
    "pt = PowerTransformer()\n",
    "X_test = pt.fit_transform(X_test)\n",
    "X_test = np.array(X_test)"
   ]
  },
  {
   "cell_type": "code",
   "execution_count": 18,
   "metadata": {},
   "outputs": [],
   "source": [
    "class AutoEncoder(Model):\n",
    "    def __init__(self, latent_dim, input_dim):\n",
    "        super(AutoEncoder, self).__init__()\n",
    "        self.latent_dim = latent_dim\n",
    "        self.encoder = tf.keras.Sequential([\n",
    "            # layers.Dense(16*latent_dim, activation = \"relu\"),\n",
    "            # layers.Dense(8*latent_dim, activation = \"relu\"),\n",
    "            # layers.Dense(4*latent_dim, activation = \"relu\"),\n",
    "            layers.Dense(2*latent_dim, activation = \"relu\"),\n",
    "            layers.Dense(latent_dim, activation = \"relu\"),\n",
    "        ])\n",
    "        self.decoder = tf.keras.Sequential([\n",
    "            layers.Dense(2*latent_dim, activation = \"relu\"),\n",
    "            # layers.Dense(4*latent_dim, activation = \"relu\"),\n",
    "            # layers.Dense(8*latent_dim, activation = \"relu\"),\n",
    "            # layers.Dense(16*latent_dim, activation = \"relu\"),\n",
    "            layers.Dense(input_dim, activation = \"relu\"),           \n",
    "        ])\n",
    "        \n",
    "    def call(self, x):\n",
    "        encoded = self.encoder(x)\n",
    "        decoded = self.decoder(encoded)\n",
    "        return decoded"
   ]
  },
  {
   "cell_type": "code",
   "execution_count": 19,
   "metadata": {},
   "outputs": [],
   "source": [
    "def find_latent_dims(AutoEncoder, latent_dim):\n",
    "    tf.keras.backend.clear_session()\n",
    "    callback = tf.keras.callbacks.EarlyStopping(monitor='val_loss', min_delta=0, patience=10)\n",
    "    autoencoder = AutoEncoder(latent_dim, X.shape[1])\n",
    "    autoencoder.compile(optimizer=\"adam\", loss=\"mean_squared_error\")\n",
    "    history = autoencoder.fit(X, X, epochs=1000, shuffle=True, validation_data=(X, X), verbose=False, callbacks=callback)\n",
    "    return history"
   ]
  },
  {
   "cell_type": "code",
   "execution_count": 20,
   "metadata": {},
   "outputs": [],
   "source": [
    "latent_dim = 11\n",
    "\n",
    "tf.keras.backend.clear_session()\n",
    "callback = tf.keras.callbacks.EarlyStopping(monitor='val_loss', min_delta=0, patience=10)\n",
    "autoencoder = AutoEncoder(latent_dim, X.shape[1])\n",
    "autoencoder.compile(optimizer=\"adam\", loss=\"mean_squared_error\")\n",
    "history = autoencoder.fit(X, X, epochs=1000, shuffle=True, validation_data=(X, X), verbose=False, callbacks=callback)"
   ]
  },
  {
   "cell_type": "code",
   "execution_count": 21,
   "metadata": {},
   "outputs": [
    {
     "data": {
      "text/plain": [
       "(13096, 16)"
      ]
     },
     "execution_count": 21,
     "metadata": {},
     "output_type": "execute_result"
    }
   ],
   "source": [
    "X_test.shape"
   ]
  },
  {
   "cell_type": "code",
   "execution_count": 22,
   "metadata": {},
   "outputs": [
    {
     "name": "stdout",
     "output_type": "stream",
     "text": [
      "410/410 [==============================] - 0s 444us/step - loss: 0.0000e+00\n"
     ]
    },
    {
     "data": {
      "text/plain": [
       "0.0"
      ]
     },
     "execution_count": 22,
     "metadata": {},
     "output_type": "execute_result"
    }
   ],
   "source": [
    "autoencoder.evaluate(X_test)"
   ]
  },
  {
   "cell_type": "code",
   "execution_count": 23,
   "metadata": {},
   "outputs": [],
   "source": [
    "# latent_dim = np.arange(X.shape[1]) + 1\n",
    "\n",
    "# lossSave = []\n",
    "# lowestLoss = []\n",
    "# i = 0\n",
    "# for dim in latent_dim:\n",
    "#     history = find_latent_dims(AutoEncoder, dim)\n",
    "#     lossSave.append(history.history['loss'])\n",
    "#     lowestLoss.append(lossSave[i][-1])\n",
    "#     i += 1"
   ]
  },
  {
   "cell_type": "code",
   "execution_count": 24,
   "metadata": {},
   "outputs": [],
   "source": [
    "# plt.figure(figsize=(20,20))\n",
    "# plt.scatter(range(len(lowestLoss)), lowestLoss)  \n",
    "# plt.xlabel(\"Number of Latent Dimensions\")\n",
    "# plt.ylabel(\"Mean Squared Error\")\n",
    "# plt.show()"
   ]
  },
  {
   "cell_type": "code",
   "execution_count": 25,
   "metadata": {},
   "outputs": [],
   "source": [
    "# plt.figure(figsize=(20,20))\n",
    "# for losses in lossSave:\n",
    "#     plt.plot(losses)    \n",
    "# plt.xlabel(\"Epochs\")\n",
    "# plt.ylabel(\"Mean Squared Error\")\n",
    "# plt.legend(latent_dim)\n",
    "# plt.show()\n"
   ]
  },
  {
   "cell_type": "code",
   "execution_count": 26,
   "metadata": {},
   "outputs": [],
   "source": [
    "def plot_loss(fit):\n",
    "    plt.figure(figsize=(16,9))\n",
    "    plt.plot(fit.history['loss'], label='loss')\n",
    "    plt.plot(fit.history['val_loss'], label='val_loss')\n",
    "    plt.xlabel('Epoch')\n",
    "    plt.ylabel('Remaining Cycles Error')\n",
    "    plt.legend(loc=0, prop={'size':26})\n",
    "    plt.grid(True)\n",
    "    plt.show()"
   ]
  },
  {
   "cell_type": "code",
   "execution_count": 27,
   "metadata": {},
   "outputs": [],
   "source": [
    "def make_fully_connected_model(autoencoder, loss_type, activation_type):\n",
    "    autoencoder.encoder.trainable = False\n",
    "    model = keras.Sequential([autoencoder.encoder,\n",
    "                              layers.Dense(512, kernel_initializer= \"glorot_normal\", activation=activation_type),\n",
    "                              layers.BatchNormalization(axis=1),\n",
    "                              layers.Dense(256, kernel_initializer= \"glorot_normal\", activation=activation_type),\n",
    "                              layers.BatchNormalization(axis=1),\n",
    "                              layers.Dense(128, kernel_initializer= \"glorot_normal\", activation=activation_type),\n",
    "                              layers.BatchNormalization(axis=1),\n",
    "                              layers.Dense(64, kernel_initializer= \"glorot_normal\", activation=activation_type),\n",
    "                              layers.Dropout(0.5),\n",
    "                              layers.BatchNormalization(axis=1),\n",
    "                              layers.Dense(16, kernel_initializer= \"glorot_normal\", activation=activation_type),\n",
    "                              layers.Dense(1, kernel_initializer= \"glorot_normal\", activation=\"linear\")])\n",
    "    model.compile(loss=loss_type, optimizer=keras.optimizers.Adam(learning_rate=0.001))\n",
    "    return model"
   ]
  },
  {
   "cell_type": "code",
   "execution_count": 28,
   "metadata": {},
   "outputs": [
    {
     "name": "stdout",
     "output_type": "stream",
     "text": [
      "Model: \"auto_encoder\"\n",
      "_________________________________________________________________\n",
      "Layer (type)                 Output Shape              Param #   \n",
      "=================================================================\n",
      "sequential (Sequential)      (20631, 11)               627       \n",
      "_________________________________________________________________\n",
      "sequential_1 (Sequential)    (20631, 16)               632       \n",
      "=================================================================\n",
      "Total params: 1,259\n",
      "Trainable params: 1,259\n",
      "Non-trainable params: 0\n",
      "_________________________________________________________________\n"
     ]
    }
   ],
   "source": [
    "latent_dim = 11\n",
    "tf.keras.backend.clear_session()\n",
    "autoencoder = AutoEncoder(latent_dim, X.shape[1])\n",
    "autoencoder.compile(optimizer=\"adam\", loss=\"mean_squared_error\")\n",
    "autoencoder.build(X.shape)\n",
    "autoencoder.summary()"
   ]
  },
  {
   "cell_type": "code",
   "execution_count": 29,
   "metadata": {},
   "outputs": [
    {
     "name": "stdout",
     "output_type": "stream",
     "text": [
      "Epoch 1/1000\n",
      "645/645 [==============================] - 1s 875us/step - loss: 0.6453 - val_loss: 0.5842\n",
      "Epoch 2/1000\n",
      "645/645 [==============================] - 1s 780us/step - loss: 0.5725 - val_loss: 0.5634\n",
      "Epoch 3/1000\n",
      "645/645 [==============================] - 1s 806us/step - loss: 0.5559 - val_loss: 0.5508\n",
      "Epoch 4/1000\n",
      "645/645 [==============================] - 1s 833us/step - loss: 0.5482 - val_loss: 0.5456\n",
      "Epoch 5/1000\n",
      "645/645 [==============================] - 1s 798us/step - loss: 0.5443 - val_loss: 0.5427\n",
      "Epoch 6/1000\n",
      "645/645 [==============================] - 1s 867us/step - loss: 0.5416 - val_loss: 0.5404\n",
      "Epoch 7/1000\n",
      "645/645 [==============================] - 0s 756us/step - loss: 0.5396 - val_loss: 0.5387\n",
      "Epoch 8/1000\n",
      "645/645 [==============================] - 0s 774us/step - loss: 0.5380 - val_loss: 0.5374\n",
      "Epoch 9/1000\n",
      "645/645 [==============================] - 1s 839us/step - loss: 0.5370 - val_loss: 0.5364\n",
      "Epoch 10/1000\n",
      "645/645 [==============================] - 1s 961us/step - loss: 0.5372 - val_loss: 0.5361\n",
      "Epoch 11/1000\n",
      "645/645 [==============================] - 1s 907us/step - loss: 0.5362 - val_loss: 0.5363\n",
      "Epoch 12/1000\n",
      "645/645 [==============================] - 0s 763us/step - loss: 0.5358 - val_loss: 0.5355\n",
      "Epoch 13/1000\n",
      "645/645 [==============================] - 0s 770us/step - loss: 0.5355 - val_loss: 0.5351\n",
      "Epoch 14/1000\n",
      "645/645 [==============================] - 0s 767us/step - loss: 0.5352 - val_loss: 0.5352\n",
      "Epoch 15/1000\n",
      "645/645 [==============================] - 0s 754us/step - loss: 0.5350 - val_loss: 0.5349\n",
      "Epoch 16/1000\n",
      "645/645 [==============================] - 0s 763us/step - loss: 0.5349 - val_loss: 0.5354\n",
      "Epoch 17/1000\n",
      "645/645 [==============================] - 0s 756us/step - loss: 0.5348 - val_loss: 0.5346\n",
      "Epoch 18/1000\n",
      "645/645 [==============================] - 0s 757us/step - loss: 0.5347 - val_loss: 0.5347\n",
      "Epoch 19/1000\n",
      "645/645 [==============================] - 0s 769us/step - loss: 0.5346 - val_loss: 0.5345\n",
      "Epoch 20/1000\n",
      "645/645 [==============================] - 0s 769us/step - loss: 0.5345 - val_loss: 0.5344\n",
      "Epoch 21/1000\n",
      "645/645 [==============================] - 0s 758us/step - loss: 0.5344 - val_loss: 0.5343\n",
      "Epoch 22/1000\n",
      "645/645 [==============================] - 0s 760us/step - loss: 0.5343 - val_loss: 0.5345\n",
      "Epoch 23/1000\n",
      "645/645 [==============================] - 0s 754us/step - loss: 0.5342 - val_loss: 0.5341\n",
      "Epoch 24/1000\n",
      "645/645 [==============================] - 1s 787us/step - loss: 0.5342 - val_loss: 0.5342\n",
      "Epoch 25/1000\n",
      "645/645 [==============================] - 0s 770us/step - loss: 0.5342 - val_loss: 0.5341\n",
      "Epoch 26/1000\n",
      "645/645 [==============================] - 1s 788us/step - loss: 0.5341 - val_loss: 0.5341\n",
      "Epoch 27/1000\n",
      "645/645 [==============================] - 0s 746us/step - loss: 0.5341 - val_loss: 0.5344\n",
      "Epoch 28/1000\n",
      "645/645 [==============================] - 0s 763us/step - loss: 0.5341 - val_loss: 0.5340\n",
      "Epoch 29/1000\n",
      "645/645 [==============================] - 0s 761us/step - loss: 0.5340 - val_loss: 0.5341\n",
      "Epoch 30/1000\n",
      "645/645 [==============================] - 1s 781us/step - loss: 0.5340 - val_loss: 0.5340\n",
      "Epoch 31/1000\n",
      "645/645 [==============================] - 0s 772us/step - loss: 0.5340 - val_loss: 0.5341\n",
      "Epoch 32/1000\n",
      "645/645 [==============================] - 0s 767us/step - loss: 0.5340 - val_loss: 0.5341\n",
      "Epoch 33/1000\n",
      "645/645 [==============================] - 0s 761us/step - loss: 0.5340 - val_loss: 0.5340\n",
      "Epoch 34/1000\n",
      "645/645 [==============================] - 1s 848us/step - loss: 0.5340 - val_loss: 0.5339\n",
      "Epoch 35/1000\n",
      "645/645 [==============================] - 1s 839us/step - loss: 0.5340 - val_loss: 0.5340\n",
      "Epoch 36/1000\n",
      "645/645 [==============================] - 1s 939us/step - loss: 0.5339 - val_loss: 0.5338\n",
      "Epoch 37/1000\n",
      "645/645 [==============================] - 1s 836us/step - loss: 0.5339 - val_loss: 0.5338\n",
      "Epoch 38/1000\n",
      "645/645 [==============================] - 1s 803us/step - loss: 0.5339 - val_loss: 0.5339\n",
      "Epoch 39/1000\n",
      "645/645 [==============================] - 1s 825us/step - loss: 0.5339 - val_loss: 0.5338\n",
      "Epoch 40/1000\n",
      "645/645 [==============================] - 1s 967us/step - loss: 0.5338 - val_loss: 0.5339\n",
      "Epoch 41/1000\n",
      "645/645 [==============================] - 1s 900us/step - loss: 0.5338 - val_loss: 0.5338\n",
      "Epoch 42/1000\n",
      "645/645 [==============================] - 1s 907us/step - loss: 0.5338 - val_loss: 0.5338\n",
      "Epoch 43/1000\n",
      "645/645 [==============================] - 1s 890us/step - loss: 0.5338 - val_loss: 0.5337\n",
      "Epoch 44/1000\n",
      "645/645 [==============================] - 1s 864us/step - loss: 0.5338 - val_loss: 0.5337\n",
      "Epoch 45/1000\n",
      "645/645 [==============================] - 1s 869us/step - loss: 0.5337 - val_loss: 0.5336\n",
      "Epoch 46/1000\n",
      "645/645 [==============================] - 1s 848us/step - loss: 0.5337 - val_loss: 0.5338\n",
      "Epoch 47/1000\n",
      "645/645 [==============================] - 1s 862us/step - loss: 0.5337 - val_loss: 0.5337\n",
      "Epoch 48/1000\n",
      "645/645 [==============================] - 1s 794us/step - loss: 0.5337 - val_loss: 0.5338\n",
      "Epoch 49/1000\n",
      "645/645 [==============================] - 1s 805us/step - loss: 0.5337 - val_loss: 0.5336\n",
      "Epoch 50/1000\n",
      "645/645 [==============================] - 1s 789us/step - loss: 0.5337 - val_loss: 0.5336\n",
      "Epoch 51/1000\n",
      "645/645 [==============================] - 0s 772us/step - loss: 0.5337 - val_loss: 0.5336\n",
      "Epoch 52/1000\n",
      "645/645 [==============================] - 1s 820us/step - loss: 0.5337 - val_loss: 0.5335\n",
      "Epoch 53/1000\n",
      "645/645 [==============================] - 1s 826us/step - loss: 0.5336 - val_loss: 0.5336\n",
      "Epoch 54/1000\n",
      "645/645 [==============================] - 1s 788us/step - loss: 0.5336 - val_loss: 0.5337\n",
      "Epoch 55/1000\n",
      "645/645 [==============================] - 1s 777us/step - loss: 0.5336 - val_loss: 0.5336\n",
      "Epoch 56/1000\n",
      "645/645 [==============================] - 1s 789us/step - loss: 0.5336 - val_loss: 0.5335\n",
      "Epoch 57/1000\n",
      "645/645 [==============================] - 1s 786us/step - loss: 0.5336 - val_loss: 0.5336\n",
      "Epoch 58/1000\n",
      "645/645 [==============================] - 1s 794us/step - loss: 0.5336 - val_loss: 0.5337\n",
      "Epoch 59/1000\n",
      "645/645 [==============================] - 0s 772us/step - loss: 0.5336 - val_loss: 0.5336\n",
      "Epoch 60/1000\n",
      "645/645 [==============================] - 1s 852us/step - loss: 0.5336 - val_loss: 0.5335\n",
      "Epoch 61/1000\n",
      "645/645 [==============================] - 1s 783us/step - loss: 0.5336 - val_loss: 0.5336\n",
      "Epoch 62/1000\n",
      "645/645 [==============================] - 1s 870us/step - loss: 0.5336 - val_loss: 0.5335\n",
      "Epoch 63/1000\n",
      "645/645 [==============================] - 1s 824us/step - loss: 0.5336 - val_loss: 0.5335\n",
      "Epoch 64/1000\n",
      "645/645 [==============================] - 1s 806us/step - loss: 0.5335 - val_loss: 0.5336\n",
      "Epoch 65/1000\n",
      "645/645 [==============================] - 1s 801us/step - loss: 0.5335 - val_loss: 0.5335\n",
      "Epoch 66/1000\n",
      "645/645 [==============================] - 1s 780us/step - loss: 0.5335 - val_loss: 0.5334\n",
      "Epoch 67/1000\n",
      "645/645 [==============================] - 1s 778us/step - loss: 0.5335 - val_loss: 0.5335\n",
      "Epoch 68/1000\n",
      "645/645 [==============================] - 0s 772us/step - loss: 0.5335 - val_loss: 0.5337\n",
      "Epoch 69/1000\n",
      "645/645 [==============================] - 1s 809us/step - loss: 0.5335 - val_loss: 0.5335\n",
      "Epoch 70/1000\n",
      "645/645 [==============================] - 1s 781us/step - loss: 0.5335 - val_loss: 0.5334\n",
      "Epoch 71/1000\n",
      "645/645 [==============================] - 1s 799us/step - loss: 0.5335 - val_loss: 0.5335\n",
      "Epoch 72/1000\n",
      "645/645 [==============================] - 1s 801us/step - loss: 0.5335 - val_loss: 0.5334\n",
      "Epoch 73/1000\n",
      "645/645 [==============================] - 1s 840us/step - loss: 0.5335 - val_loss: 0.5334\n",
      "Epoch 74/1000\n",
      "645/645 [==============================] - 1s 806us/step - loss: 0.5335 - val_loss: 0.5335\n",
      "Epoch 75/1000\n",
      "645/645 [==============================] - 1s 777us/step - loss: 0.5334 - val_loss: 0.5335\n",
      "Epoch 76/1000\n",
      "645/645 [==============================] - 0s 775us/step - loss: 0.5335 - val_loss: 0.5334\n",
      "Epoch 77/1000\n",
      "645/645 [==============================] - 1s 794us/step - loss: 0.5335 - val_loss: 0.5333\n",
      "Epoch 78/1000\n",
      "645/645 [==============================] - 1s 781us/step - loss: 0.5334 - val_loss: 0.5336\n",
      "Epoch 79/1000\n",
      "645/645 [==============================] - 1s 779us/step - loss: 0.5335 - val_loss: 0.5335\n",
      "Epoch 80/1000\n",
      "645/645 [==============================] - 1s 778us/step - loss: 0.5334 - val_loss: 0.5334\n",
      "Epoch 81/1000\n",
      "645/645 [==============================] - 1s 822us/step - loss: 0.5334 - val_loss: 0.5334\n",
      "Epoch 82/1000\n",
      "645/645 [==============================] - 1s 790us/step - loss: 0.5334 - val_loss: 0.5334\n",
      "Epoch 83/1000\n",
      "645/645 [==============================] - 0s 774us/step - loss: 0.5334 - val_loss: 0.5333\n",
      "Epoch 84/1000\n",
      "645/645 [==============================] - 1s 787us/step - loss: 0.5334 - val_loss: 0.5333\n",
      "Epoch 85/1000\n",
      "645/645 [==============================] - 1s 777us/step - loss: 0.5334 - val_loss: 0.5333\n",
      "Epoch 86/1000\n",
      "645/645 [==============================] - 1s 784us/step - loss: 0.5334 - val_loss: 0.5332\n",
      "Epoch 87/1000\n",
      "645/645 [==============================] - 1s 780us/step - loss: 0.5333 - val_loss: 0.5332\n",
      "Epoch 88/1000\n",
      "645/645 [==============================] - 0s 774us/step - loss: 0.5334 - val_loss: 0.5336\n",
      "Epoch 89/1000\n",
      "645/645 [==============================] - 0s 772us/step - loss: 0.5334 - val_loss: 0.5334\n",
      "Epoch 90/1000\n",
      "645/645 [==============================] - 1s 777us/step - loss: 0.5333 - val_loss: 0.5332\n",
      "Epoch 91/1000\n",
      "645/645 [==============================] - 1s 813us/step - loss: 0.5333 - val_loss: 0.5332\n",
      "Epoch 92/1000\n",
      "645/645 [==============================] - 1s 792us/step - loss: 0.5333 - val_loss: 0.5333\n",
      "Epoch 93/1000\n",
      "645/645 [==============================] - 1s 782us/step - loss: 0.5333 - val_loss: 0.5333\n",
      "Epoch 94/1000\n",
      "645/645 [==============================] - 1s 789us/step - loss: 0.5333 - val_loss: 0.5332\n",
      "Epoch 95/1000\n",
      "645/645 [==============================] - 1s 780us/step - loss: 0.5333 - val_loss: 0.5333\n",
      "Epoch 96/1000\n",
      "645/645 [==============================] - 1s 848us/step - loss: 0.5333 - val_loss: 0.5336\n",
      "Epoch 97/1000\n",
      "645/645 [==============================] - 1s 821us/step - loss: 0.5333 - val_loss: 0.5332\n",
      "Epoch 98/1000\n",
      "645/645 [==============================] - 1s 826us/step - loss: 0.5333 - val_loss: 0.5334\n",
      "Epoch 99/1000\n",
      "645/645 [==============================] - 1s 810us/step - loss: 0.5332 - val_loss: 0.5335\n",
      "Epoch 100/1000\n",
      "645/645 [==============================] - 1s 823us/step - loss: 0.5333 - val_loss: 0.5332\n",
      "Epoch 101/1000\n",
      "645/645 [==============================] - 1s 848us/step - loss: 0.5333 - val_loss: 0.5332\n",
      "Epoch 102/1000\n",
      "645/645 [==============================] - 1s 803us/step - loss: 0.5332 - val_loss: 0.5333\n",
      "Epoch 103/1000\n",
      "645/645 [==============================] - 1s 829us/step - loss: 0.5332 - val_loss: 0.5332\n",
      "Epoch 104/1000\n",
      "645/645 [==============================] - 1s 822us/step - loss: 0.5332 - val_loss: 0.5332\n",
      "Epoch 105/1000\n",
      "645/645 [==============================] - 1s 829us/step - loss: 0.5333 - val_loss: 0.5332\n",
      "Epoch 106/1000\n",
      "645/645 [==============================] - 1s 832us/step - loss: 0.5332 - val_loss: 0.5332\n",
      "Epoch 107/1000\n",
      "645/645 [==============================] - 0s 774us/step - loss: 0.5332 - val_loss: 0.5332\n",
      "Epoch 108/1000\n",
      "645/645 [==============================] - 1s 805us/step - loss: 0.5332 - val_loss: 0.5334\n",
      "Epoch 109/1000\n",
      "645/645 [==============================] - 0s 771us/step - loss: 0.5332 - val_loss: 0.5332\n",
      "Epoch 110/1000\n",
      "645/645 [==============================] - 1s 819us/step - loss: 0.5332 - val_loss: 0.5331\n",
      "Epoch 111/1000\n",
      "645/645 [==============================] - 1s 783us/step - loss: 0.5332 - val_loss: 0.5331\n",
      "Epoch 112/1000\n",
      "645/645 [==============================] - 1s 791us/step - loss: 0.5332 - val_loss: 0.5331\n",
      "Epoch 113/1000\n",
      "645/645 [==============================] - 0s 775us/step - loss: 0.5332 - val_loss: 0.5333\n",
      "Epoch 114/1000\n",
      "645/645 [==============================] - 1s 776us/step - loss: 0.5332 - val_loss: 0.5333\n",
      "Epoch 115/1000\n",
      "645/645 [==============================] - 1s 778us/step - loss: 0.5332 - val_loss: 0.5331\n",
      "Epoch 116/1000\n",
      "645/645 [==============================] - 1s 800us/step - loss: 0.5332 - val_loss: 0.5332\n",
      "Epoch 117/1000\n",
      "645/645 [==============================] - 1s 784us/step - loss: 0.5332 - val_loss: 0.5331\n",
      "Epoch 118/1000\n",
      "645/645 [==============================] - 1s 781us/step - loss: 0.5332 - val_loss: 0.5332\n",
      "Epoch 119/1000\n",
      "645/645 [==============================] - 1s 785us/step - loss: 0.5332 - val_loss: 0.5332\n",
      "Epoch 120/1000\n",
      "645/645 [==============================] - 1s 816us/step - loss: 0.5332 - val_loss: 0.5331\n",
      "Epoch 121/1000\n",
      "645/645 [==============================] - 0s 775us/step - loss: 0.5332 - val_loss: 0.5331\n",
      "Epoch 122/1000\n",
      "645/645 [==============================] - 1s 778us/step - loss: 0.5332 - val_loss: 0.5332\n",
      "Epoch 123/1000\n",
      "645/645 [==============================] - 1s 796us/step - loss: 0.5332 - val_loss: 0.5331\n",
      "Epoch 124/1000\n",
      "645/645 [==============================] - 0s 772us/step - loss: 0.5332 - val_loss: 0.5332\n",
      "Epoch 125/1000\n",
      "645/645 [==============================] - 0s 775us/step - loss: 0.5332 - val_loss: 0.5331\n",
      "Epoch 126/1000\n",
      "645/645 [==============================] - 1s 788us/step - loss: 0.5331 - val_loss: 0.5331\n",
      "Epoch 127/1000\n",
      "645/645 [==============================] - 1s 776us/step - loss: 0.5332 - val_loss: 0.5331\n",
      "Epoch 128/1000\n",
      "645/645 [==============================] - 1s 795us/step - loss: 0.5332 - val_loss: 0.5331\n",
      "Epoch 129/1000\n",
      "645/645 [==============================] - 1s 787us/step - loss: 0.5332 - val_loss: 0.5331\n",
      "Epoch 130/1000\n",
      "645/645 [==============================] - 1s 809us/step - loss: 0.5332 - val_loss: 0.5331\n",
      "Epoch 131/1000\n",
      "645/645 [==============================] - 1s 775us/step - loss: 0.5332 - val_loss: 0.5331\n",
      "Epoch 132/1000\n",
      "645/645 [==============================] - 1s 788us/step - loss: 0.5331 - val_loss: 0.5330\n",
      "Epoch 133/1000\n",
      "645/645 [==============================] - 1s 783us/step - loss: 0.5331 - val_loss: 0.5331\n",
      "Epoch 134/1000\n",
      "645/645 [==============================] - 1s 836us/step - loss: 0.5331 - val_loss: 0.5330\n",
      "Epoch 135/1000\n",
      "645/645 [==============================] - 1s 785us/step - loss: 0.5332 - val_loss: 0.5330\n",
      "Epoch 136/1000\n",
      "645/645 [==============================] - 0s 774us/step - loss: 0.5331 - val_loss: 0.5331\n",
      "Epoch 137/1000\n",
      "645/645 [==============================] - 1s 787us/step - loss: 0.5332 - val_loss: 0.5331\n",
      "Epoch 138/1000\n",
      "645/645 [==============================] - 1s 781us/step - loss: 0.5331 - val_loss: 0.5331\n",
      "Epoch 139/1000\n",
      "645/645 [==============================] - 1s 796us/step - loss: 0.5331 - val_loss: 0.5330\n",
      "Epoch 140/1000\n",
      "645/645 [==============================] - 1s 800us/step - loss: 0.5331 - val_loss: 0.5333\n",
      "Epoch 141/1000\n",
      "645/645 [==============================] - 1s 783us/step - loss: 0.5331 - val_loss: 0.5330\n",
      "Epoch 142/1000\n",
      "645/645 [==============================] - 0s 773us/step - loss: 0.5331 - val_loss: 0.5333\n",
      "Epoch 143/1000\n",
      "645/645 [==============================] - 1s 937us/step - loss: 0.5331 - val_loss: 0.5331\n",
      "Epoch 144/1000\n",
      "645/645 [==============================] - 1s 870us/step - loss: 0.5331 - val_loss: 0.5332\n",
      "Epoch 145/1000\n",
      "645/645 [==============================] - 1s 780us/step - loss: 0.5331 - val_loss: 0.5330\n",
      "Epoch 146/1000\n",
      "645/645 [==============================] - 0s 772us/step - loss: 0.5331 - val_loss: 0.5331\n",
      "Epoch 147/1000\n",
      "645/645 [==============================] - 1s 781us/step - loss: 0.5331 - val_loss: 0.5330\n",
      "Epoch 148/1000\n",
      "645/645 [==============================] - 1s 781us/step - loss: 0.5331 - val_loss: 0.5330\n",
      "Epoch 149/1000\n",
      "645/645 [==============================] - 1s 817us/step - loss: 0.5331 - val_loss: 0.5331\n",
      "Epoch 150/1000\n",
      "645/645 [==============================] - 1s 784us/step - loss: 0.5331 - val_loss: 0.5330\n",
      "Epoch 151/1000\n",
      "645/645 [==============================] - 1s 779us/step - loss: 0.5331 - val_loss: 0.5331\n",
      "Epoch 152/1000\n",
      "645/645 [==============================] - 1s 781us/step - loss: 0.5331 - val_loss: 0.5330\n",
      "Epoch 153/1000\n",
      "645/645 [==============================] - 1s 778us/step - loss: 0.5331 - val_loss: 0.5330\n",
      "Epoch 154/1000\n",
      "645/645 [==============================] - 0s 773us/step - loss: 0.5331 - val_loss: 0.5331\n",
      "Epoch 155/1000\n",
      "645/645 [==============================] - 1s 781us/step - loss: 0.5331 - val_loss: 0.5330\n",
      "Epoch 156/1000\n",
      "645/645 [==============================] - 1s 849us/step - loss: 0.5331 - val_loss: 0.5332\n",
      "Epoch 157/1000\n",
      "645/645 [==============================] - 1s 836us/step - loss: 0.5331 - val_loss: 0.5331\n",
      "Epoch 158/1000\n",
      "645/645 [==============================] - 1s 837us/step - loss: 0.5331 - val_loss: 0.5330\n",
      "Epoch 159/1000\n",
      "645/645 [==============================] - 1s 862us/step - loss: 0.5330 - val_loss: 0.5331\n",
      "Epoch 160/1000\n",
      "645/645 [==============================] - 1s 852us/step - loss: 0.5331 - val_loss: 0.5330\n",
      "Epoch 161/1000\n",
      "645/645 [==============================] - 1s 828us/step - loss: 0.5331 - val_loss: 0.5333\n",
      "Epoch 162/1000\n",
      "645/645 [==============================] - 1s 887us/step - loss: 0.5330 - val_loss: 0.5331\n"
     ]
    },
    {
     "data": {
      "text/plain": [
       "False"
      ]
     },
     "execution_count": 29,
     "metadata": {},
     "output_type": "execute_result"
    }
   ],
   "source": [
    "callback = tf.keras.callbacks.EarlyStopping(monitor='val_loss', min_delta=0, patience=10)\n",
    "autoencoder.fit(X, X, epochs=1000, shuffle=True, validation_data=(X, X), verbose=True, callbacks=callback)\n",
    "autoencoder.encoder.trainable = False\n",
    "autoencoder.encoder.trainable"
   ]
  },
  {
   "cell_type": "code",
   "execution_count": 30,
   "metadata": {},
   "outputs": [],
   "source": [
    "# train_shuffled = train.sample(frac=1)\n",
    "# X_shuffled = train_shuffled.drop(['remaining_cycles'], axis=1)\n",
    "# y = train_shuffled.remaining_cycles\n",
    "y = train.remaining_cycles"
   ]
  },
  {
   "cell_type": "code",
   "execution_count": 31,
   "metadata": {},
   "outputs": [],
   "source": [
    "dnn = make_fully_connected_model(autoencoder, 'mean_squared_error', 'relu')"
   ]
  },
  {
   "cell_type": "code",
   "execution_count": 32,
   "metadata": {},
   "outputs": [
    {
     "name": "stdout",
     "output_type": "stream",
     "text": [
      "Epoch 1/200\n",
      "524/524 [==============================] - 2s 2ms/step - loss: 6726.5815 - val_loss: 2789.1980\n",
      "Epoch 2/200\n",
      "524/524 [==============================] - 1s 2ms/step - loss: 1827.5139 - val_loss: 2860.6919\n",
      "Epoch 3/200\n",
      "524/524 [==============================] - 1s 2ms/step - loss: 1766.2789 - val_loss: 2760.4006\n",
      "Epoch 4/200\n",
      "524/524 [==============================] - 1s 2ms/step - loss: 1723.9092 - val_loss: 3033.7698\n",
      "Epoch 5/200\n",
      "524/524 [==============================] - 1s 2ms/step - loss: 1701.4773 - val_loss: 2778.6428\n",
      "Epoch 6/200\n",
      "524/524 [==============================] - 1s 2ms/step - loss: 1697.6274 - val_loss: 2779.2373\n",
      "Epoch 7/200\n",
      "524/524 [==============================] - 1s 2ms/step - loss: 1663.5063 - val_loss: 2580.9341\n",
      "Epoch 8/200\n",
      "524/524 [==============================] - 1s 2ms/step - loss: 1639.9430 - val_loss: 2849.4221\n",
      "Epoch 9/200\n",
      "524/524 [==============================] - 1s 2ms/step - loss: 1635.4877 - val_loss: 2754.2119\n",
      "Epoch 10/200\n",
      "524/524 [==============================] - 1s 2ms/step - loss: 1640.8588 - val_loss: 2684.8523\n",
      "Epoch 11/200\n",
      "524/524 [==============================] - 1s 2ms/step - loss: 1624.0208 - val_loss: 3887.7390\n",
      "Epoch 12/200\n",
      "524/524 [==============================] - 1s 2ms/step - loss: 1626.9255 - val_loss: 2776.1016\n",
      "Epoch 13/200\n",
      "524/524 [==============================] - 1s 2ms/step - loss: 1616.3121 - val_loss: 2590.9150\n",
      "Epoch 14/200\n",
      "524/524 [==============================] - 1s 2ms/step - loss: 1613.4469 - val_loss: 2924.2710\n",
      "Epoch 15/200\n",
      "524/524 [==============================] - 1s 2ms/step - loss: 1613.2648 - val_loss: 2631.5486\n",
      "Epoch 16/200\n",
      "524/524 [==============================] - 1s 2ms/step - loss: 1601.4302 - val_loss: 2659.3079\n",
      "Epoch 17/200\n",
      "524/524 [==============================] - 1s 2ms/step - loss: 1605.5403 - val_loss: 2840.9309\n"
     ]
    }
   ],
   "source": [
    "callback = tf.keras.callbacks.EarlyStopping(monitor='val_loss', min_delta=0, patience=10)\n",
    "history = dnn.fit(X, y, validation_split=(1-(len(train)-(len(train)-16739))/len(train)), verbose=1, epochs=200, callbacks=callback)"
   ]
  },
  {
   "cell_type": "code",
   "execution_count": 33,
   "metadata": {},
   "outputs": [
    {
     "data": {
      "image/png": "[encoded data removed]",
      "text/plain": [
       "<Figure size 1152x648 with 1 Axes>"
      ]
     },
     "metadata": {},
     "output_type": "display_data"
    }
   ],
   "source": [
    "plot_loss(history)"
   ]
  },
  {
   "cell_type": "code",
   "execution_count": 34,
   "id": "82920e9a",
   "metadata": {},
   "outputs": [
    {
     "name": "stdout",
     "output_type": "stream",
     "text": [
      "410/410 [==============================] - 0s 634us/step - loss: 4341.7988\n"
     ]
    },
    {
     "data": {
      "text/plain": [
       "4341.798828125"
      ]
     },
     "execution_count": 34,
     "metadata": {},
     "output_type": "execute_result"
    }
   ],
   "source": [
    "dnn.evaluate(X_test, y_test, verbose=1)"
   ]
  },
  {
   "cell_type": "markdown",
   "id": "8376bd6c",
   "metadata": {},
   "source": [
    "Making predictions with the model. Note that the test data has been scaled from 0 to 1 but not shuffled."
   ]
  },
  {
   "cell_type": "code",
   "execution_count": 35,
   "id": "ae45b4f1",
   "metadata": {},
   "outputs": [],
   "source": [
    "pred = dnn.predict(X_test)\n",
    "pred = np.reshape(pred, -1)"
   ]
  },
  {
   "cell_type": "markdown",
   "id": "3909f490",
   "metadata": {},
   "source": [
    "As we can see, the model predictions do not exactly match the test dataset. However, the model does seem to underpredict the amount of remaining cycles on average, which is good from a safety standpoint. The magnitude and distribution of the predictions seem to both be smaller than that of the test data."
   ]
  },
  {
   "cell_type": "code",
   "execution_count": 36,
   "id": "fd5ea082",
   "metadata": {},
   "outputs": [
    {
     "data": {
      "image/png": "[encoded data removed]",
      "text/plain": [
       "<Figure size 576x504 with 1 Axes>"
      ]
     },
     "metadata": {},
     "output_type": "display_data"
    }
   ],
   "source": [
    "plt.figure()\n",
    "plt.scatter(range(len(y)), y)\n",
    "plt.show()"
   ]
  },
  {
   "cell_type": "code",
   "execution_count": 37,
   "id": "21ad17fa",
   "metadata": {},
   "outputs": [
    {
     "data": {
      "image/png": "[encoded data removed]",
      "text/plain": [
       "<Figure size 576x504 with 1 Axes>"
      ]
     },
     "metadata": {},
     "output_type": "display_data"
    }
   ],
   "source": [
    "plt.figure()\n",
    "plt.plot(y_test, label='Test Data')\n",
    "plt.plot(pred, label='Model Predictions')\n",
    "plt.xlabel('Count')\n",
    "plt.ylabel('Number of Remaining Cycles')\n",
    "plt.title('Model Predictions vs Actual Remaining Cycles')\n",
    "plt.legend(loc=0, prop={'size':16})\n",
    "plt.show()"
   ]
  },
  {
   "cell_type": "code",
   "execution_count": 38,
   "id": "fe776ce4",
   "metadata": {},
   "outputs": [
    {
     "name": "stdout",
     "output_type": "stream",
     "text": [
      "R^2 is -0.24822183456367553\n"
     ]
    }
   ],
   "source": [
    "print(f\"R^2 is {r2_score(y_test, pred)}\")"
   ]
  },
  {
   "cell_type": "code",
   "execution_count": null,
   "metadata": {},
   "outputs": [],
   "source": []
  }
 ],
 "metadata": {
  "interpreter": {
   "hash": "9cf77d9e31fba3236aefb4748d140888e596bc65dcef8da4aa710fb6056a88b0"
  },
  "kernelspec": {
   "display_name": "Python 3.9.9 64-bit (windows store)",
   "language": "python",
   "name": "python3"
  },
  "language_info": {
   "codemirror_mode": {
    "name": "ipython",
    "version": 3
   },
   "file_extension": ".py",
   "mimetype": "text/x-python",
   "name": "python",
   "nbconvert_exporter": "python",
   "pygments_lexer": "ipython3",
   "version": "3.9.10"
  },
  "orig_nbformat": 4
 },
 "nbformat": 4,
 "nbformat_minor": 2
}
